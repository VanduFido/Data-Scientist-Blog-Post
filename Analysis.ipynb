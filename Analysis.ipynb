{
  "nbformat": 4,
  "nbformat_minor": 0,
  "metadata": {
    "colab": {
      "provenance": [],
      "authorship_tag": "ABX9TyPX8ZL3m6GpgG1kkTN0Dwh5",
      "include_colab_link": true
    },
    "kernelspec": {
      "name": "python3",
      "display_name": "Python 3"
    },
    "language_info": {
      "name": "python"
    }
  },
  "cells": [
    {
      "cell_type": "markdown",
      "metadata": {
        "id": "view-in-github",
        "colab_type": "text"
      },
      "source": [
        "<a href=\"https://colab.research.google.com/github/VanduFido/Data-Scientist-Blog-Post/blob/main/Analysis.ipynb\" target=\"_parent\"><img src=\"https://colab.research.google.com/assets/colab-badge.svg\" alt=\"Open In Colab\"/></a>"
      ]
    },
    {
      "cell_type": "markdown",
      "source": [
        "# STACKOVERFLOW 2022\n",
        "\n",
        "With over 70,000 responses fielded from over 180 countries, Stack Overflow Annual Developer Survey examines all aspects of the developer experience from learning to code to their favorite technologies to version control and the workplace experience of professional developers.\n",
        "\n",
        "This Analysis would explore the activities of people who use Stack Overflow and answer three questions."
      ],
      "metadata": {
        "id": "GqZ9JA99UOJ2"
      }
    },
    {
      "cell_type": "markdown",
      "source": [
        "Questions\n",
        "\n",
        "1. Coding Experience of people who use Stack Overflow\n",
        "\n",
        "2. Most used tools and languages\n",
        "\n",
        "3. Stack overflow activities"
      ],
      "metadata": {
        "id": "gt5m7PUCmwDR"
      }
    },
    {
      "cell_type": "markdown",
      "source": [
        "#### Import Libraries"
      ],
      "metadata": {
        "id": "shRD0XBaUTTt"
      }
    },
    {
      "cell_type": "code",
      "source": [
        "import pandas as pd\n",
        "import numpy as np\n",
        "import matplotlib.pyplot as plt\n",
        "%matplotlib inline"
      ],
      "metadata": {
        "id": "aG64DvLLaG8Z"
      },
      "execution_count": 1,
      "outputs": []
    },
    {
      "cell_type": "markdown",
      "source": [
        "### Load Data"
      ],
      "metadata": {
        "id": "c4wIs1wmg_yF"
      }
    },
    {
      "cell_type": "code",
      "source": [
        "import io\n",
        "from google.colab import files\n",
        " \n",
        "uploaded = files.upload()"
      ],
      "metadata": {
        "colab": {
          "base_uri": "https://localhost:8080/",
          "height": 73
        },
        "id": "X2rMjp0LdyL1",
        "outputId": "c7d28016-a118-4547-d719-a2c76247ea9b"
      },
      "execution_count": 2,
      "outputs": [
        {
          "output_type": "display_data",
          "data": {
            "text/plain": [
              "<IPython.core.display.HTML object>"
            ],
            "text/html": [
              "\n",
              "     <input type=\"file\" id=\"files-a7df9936-ac22-4efd-a90a-fae7680253b9\" name=\"files[]\" multiple disabled\n",
              "        style=\"border:none\" />\n",
              "     <output id=\"result-a7df9936-ac22-4efd-a90a-fae7680253b9\">\n",
              "      Upload widget is only available when the cell has been executed in the\n",
              "      current browser session. Please rerun this cell to enable.\n",
              "      </output>\n",
              "      <script>// Copyright 2017 Google LLC\n",
              "//\n",
              "// Licensed under the Apache License, Version 2.0 (the \"License\");\n",
              "// you may not use this file except in compliance with the License.\n",
              "// You may obtain a copy of the License at\n",
              "//\n",
              "//      http://www.apache.org/licenses/LICENSE-2.0\n",
              "//\n",
              "// Unless required by applicable law or agreed to in writing, software\n",
              "// distributed under the License is distributed on an \"AS IS\" BASIS,\n",
              "// WITHOUT WARRANTIES OR CONDITIONS OF ANY KIND, either express or implied.\n",
              "// See the License for the specific language governing permissions and\n",
              "// limitations under the License.\n",
              "\n",
              "/**\n",
              " * @fileoverview Helpers for google.colab Python module.\n",
              " */\n",
              "(function(scope) {\n",
              "function span(text, styleAttributes = {}) {\n",
              "  const element = document.createElement('span');\n",
              "  element.textContent = text;\n",
              "  for (const key of Object.keys(styleAttributes)) {\n",
              "    element.style[key] = styleAttributes[key];\n",
              "  }\n",
              "  return element;\n",
              "}\n",
              "\n",
              "// Max number of bytes which will be uploaded at a time.\n",
              "const MAX_PAYLOAD_SIZE = 100 * 1024;\n",
              "\n",
              "function _uploadFiles(inputId, outputId) {\n",
              "  const steps = uploadFilesStep(inputId, outputId);\n",
              "  const outputElement = document.getElementById(outputId);\n",
              "  // Cache steps on the outputElement to make it available for the next call\n",
              "  // to uploadFilesContinue from Python.\n",
              "  outputElement.steps = steps;\n",
              "\n",
              "  return _uploadFilesContinue(outputId);\n",
              "}\n",
              "\n",
              "// This is roughly an async generator (not supported in the browser yet),\n",
              "// where there are multiple asynchronous steps and the Python side is going\n",
              "// to poll for completion of each step.\n",
              "// This uses a Promise to block the python side on completion of each step,\n",
              "// then passes the result of the previous step as the input to the next step.\n",
              "function _uploadFilesContinue(outputId) {\n",
              "  const outputElement = document.getElementById(outputId);\n",
              "  const steps = outputElement.steps;\n",
              "\n",
              "  const next = steps.next(outputElement.lastPromiseValue);\n",
              "  return Promise.resolve(next.value.promise).then((value) => {\n",
              "    // Cache the last promise value to make it available to the next\n",
              "    // step of the generator.\n",
              "    outputElement.lastPromiseValue = value;\n",
              "    return next.value.response;\n",
              "  });\n",
              "}\n",
              "\n",
              "/**\n",
              " * Generator function which is called between each async step of the upload\n",
              " * process.\n",
              " * @param {string} inputId Element ID of the input file picker element.\n",
              " * @param {string} outputId Element ID of the output display.\n",
              " * @return {!Iterable<!Object>} Iterable of next steps.\n",
              " */\n",
              "function* uploadFilesStep(inputId, outputId) {\n",
              "  const inputElement = document.getElementById(inputId);\n",
              "  inputElement.disabled = false;\n",
              "\n",
              "  const outputElement = document.getElementById(outputId);\n",
              "  outputElement.innerHTML = '';\n",
              "\n",
              "  const pickedPromise = new Promise((resolve) => {\n",
              "    inputElement.addEventListener('change', (e) => {\n",
              "      resolve(e.target.files);\n",
              "    });\n",
              "  });\n",
              "\n",
              "  const cancel = document.createElement('button');\n",
              "  inputElement.parentElement.appendChild(cancel);\n",
              "  cancel.textContent = 'Cancel upload';\n",
              "  const cancelPromise = new Promise((resolve) => {\n",
              "    cancel.onclick = () => {\n",
              "      resolve(null);\n",
              "    };\n",
              "  });\n",
              "\n",
              "  // Wait for the user to pick the files.\n",
              "  const files = yield {\n",
              "    promise: Promise.race([pickedPromise, cancelPromise]),\n",
              "    response: {\n",
              "      action: 'starting',\n",
              "    }\n",
              "  };\n",
              "\n",
              "  cancel.remove();\n",
              "\n",
              "  // Disable the input element since further picks are not allowed.\n",
              "  inputElement.disabled = true;\n",
              "\n",
              "  if (!files) {\n",
              "    return {\n",
              "      response: {\n",
              "        action: 'complete',\n",
              "      }\n",
              "    };\n",
              "  }\n",
              "\n",
              "  for (const file of files) {\n",
              "    const li = document.createElement('li');\n",
              "    li.append(span(file.name, {fontWeight: 'bold'}));\n",
              "    li.append(span(\n",
              "        `(${file.type || 'n/a'}) - ${file.size} bytes, ` +\n",
              "        `last modified: ${\n",
              "            file.lastModifiedDate ? file.lastModifiedDate.toLocaleDateString() :\n",
              "                                    'n/a'} - `));\n",
              "    const percent = span('0% done');\n",
              "    li.appendChild(percent);\n",
              "\n",
              "    outputElement.appendChild(li);\n",
              "\n",
              "    const fileDataPromise = new Promise((resolve) => {\n",
              "      const reader = new FileReader();\n",
              "      reader.onload = (e) => {\n",
              "        resolve(e.target.result);\n",
              "      };\n",
              "      reader.readAsArrayBuffer(file);\n",
              "    });\n",
              "    // Wait for the data to be ready.\n",
              "    let fileData = yield {\n",
              "      promise: fileDataPromise,\n",
              "      response: {\n",
              "        action: 'continue',\n",
              "      }\n",
              "    };\n",
              "\n",
              "    // Use a chunked sending to avoid message size limits. See b/62115660.\n",
              "    let position = 0;\n",
              "    do {\n",
              "      const length = Math.min(fileData.byteLength - position, MAX_PAYLOAD_SIZE);\n",
              "      const chunk = new Uint8Array(fileData, position, length);\n",
              "      position += length;\n",
              "\n",
              "      const base64 = btoa(String.fromCharCode.apply(null, chunk));\n",
              "      yield {\n",
              "        response: {\n",
              "          action: 'append',\n",
              "          file: file.name,\n",
              "          data: base64,\n",
              "        },\n",
              "      };\n",
              "\n",
              "      let percentDone = fileData.byteLength === 0 ?\n",
              "          100 :\n",
              "          Math.round((position / fileData.byteLength) * 100);\n",
              "      percent.textContent = `${percentDone}% done`;\n",
              "\n",
              "    } while (position < fileData.byteLength);\n",
              "  }\n",
              "\n",
              "  // All done.\n",
              "  yield {\n",
              "    response: {\n",
              "      action: 'complete',\n",
              "    }\n",
              "  };\n",
              "}\n",
              "\n",
              "scope.google = scope.google || {};\n",
              "scope.google.colab = scope.google.colab || {};\n",
              "scope.google.colab._files = {\n",
              "  _uploadFiles,\n",
              "  _uploadFilesContinue,\n",
              "};\n",
              "})(self);\n",
              "</script> "
            ]
          },
          "metadata": {}
        },
        {
          "output_type": "stream",
          "name": "stdout",
          "text": [
            "Saving survey_results_public.csv to survey_results_public (1).csv\n"
          ]
        }
      ]
    },
    {
      "cell_type": "code",
      "source": [
        "df = pd.read_csv('survey_results_public.csv')"
      ],
      "metadata": {
        "id": "m3t_wENIUSAa"
      },
      "execution_count": 3,
      "outputs": []
    },
    {
      "cell_type": "code",
      "source": [
        "df.head()"
      ],
      "metadata": {
        "colab": {
          "base_uri": "https://localhost:8080/",
          "height": 629
        },
        "id": "VCt-nuwxlCLN",
        "outputId": "1d827922-30ec-4b76-9696-294068732059"
      },
      "execution_count": 4,
      "outputs": [
        {
          "output_type": "execute_result",
          "data": {
            "text/plain": [
              "   ResponseId                                         MainBranch  \\\n",
              "0           1                                      None of these   \n",
              "1           2                     I am a developer by profession   \n",
              "2           3  I am not primarily a developer, but I write co...   \n",
              "3           4                     I am a developer by profession   \n",
              "4           5                     I am a developer by profession   \n",
              "\n",
              "            Employment                            RemoteWork  \\\n",
              "0                  NaN                                   NaN   \n",
              "1  Employed, full-time                          Fully remote   \n",
              "2  Employed, full-time  Hybrid (some remote, some in-person)   \n",
              "3  Employed, full-time                          Fully remote   \n",
              "4  Employed, full-time  Hybrid (some remote, some in-person)   \n",
              "\n",
              "                           CodingActivities  \\\n",
              "0                                       NaN   \n",
              "1  Hobby;Contribute to open-source projects   \n",
              "2                                     Hobby   \n",
              "3              I don’t code outside of work   \n",
              "4                                     Hobby   \n",
              "\n",
              "                                           EdLevel  \\\n",
              "0                                              NaN   \n",
              "1                                              NaN   \n",
              "2  Master’s degree (M.A., M.S., M.Eng., MBA, etc.)   \n",
              "3     Bachelor’s degree (B.A., B.S., B.Eng., etc.)   \n",
              "4     Bachelor’s degree (B.A., B.S., B.Eng., etc.)   \n",
              "\n",
              "                                           LearnCode  \\\n",
              "0                                                NaN   \n",
              "1                                                NaN   \n",
              "2  Books / Physical media;Friend or family member...   \n",
              "3  Books / Physical media;School (i.e., Universit...   \n",
              "4  Other online resources (e.g., videos, blogs, f...   \n",
              "\n",
              "                                     LearnCodeOnline LearnCodeCoursesCert  \\\n",
              "0                                                NaN                  NaN   \n",
              "1                                                NaN                  NaN   \n",
              "2  Technical documentation;Blogs;Programming Game...                  NaN   \n",
              "3                                                NaN                  NaN   \n",
              "4  Technical documentation;Blogs;Stack Overflow;O...                  NaN   \n",
              "\n",
              "  YearsCode  ... TimeSearching TimeAnswering Onboarding ProfessionalTech  \\\n",
              "0       NaN  ...           NaN           NaN        NaN              NaN   \n",
              "1       NaN  ...           NaN           NaN        NaN              NaN   \n",
              "2        14  ...           NaN           NaN        NaN              NaN   \n",
              "3        20  ...           NaN           NaN        NaN              NaN   \n",
              "4         8  ...           NaN           NaN        NaN              NaN   \n",
              "\n",
              "  TrueFalse_1 TrueFalse_2 TrueFalse_3           SurveyLength  \\\n",
              "0         NaN         NaN         NaN                    NaN   \n",
              "1         NaN         NaN         NaN               Too long   \n",
              "2         NaN         NaN         NaN  Appropriate in length   \n",
              "3         NaN         NaN         NaN  Appropriate in length   \n",
              "4         NaN         NaN         NaN               Too long   \n",
              "\n",
              "                   SurveyEase ConvertedCompYearly  \n",
              "0                         NaN                 NaN  \n",
              "1                   Difficult                 NaN  \n",
              "2  Neither easy nor difficult             40205.0  \n",
              "3                        Easy            215232.0  \n",
              "4                        Easy                 NaN  \n",
              "\n",
              "[5 rows x 79 columns]"
            ],
            "text/html": [
              "\n",
              "  <div id=\"df-413ba3f1-71b3-48eb-8146-ecb09062d998\">\n",
              "    <div class=\"colab-df-container\">\n",
              "      <div>\n",
              "<style scoped>\n",
              "    .dataframe tbody tr th:only-of-type {\n",
              "        vertical-align: middle;\n",
              "    }\n",
              "\n",
              "    .dataframe tbody tr th {\n",
              "        vertical-align: top;\n",
              "    }\n",
              "\n",
              "    .dataframe thead th {\n",
              "        text-align: right;\n",
              "    }\n",
              "</style>\n",
              "<table border=\"1\" class=\"dataframe\">\n",
              "  <thead>\n",
              "    <tr style=\"text-align: right;\">\n",
              "      <th></th>\n",
              "      <th>ResponseId</th>\n",
              "      <th>MainBranch</th>\n",
              "      <th>Employment</th>\n",
              "      <th>RemoteWork</th>\n",
              "      <th>CodingActivities</th>\n",
              "      <th>EdLevel</th>\n",
              "      <th>LearnCode</th>\n",
              "      <th>LearnCodeOnline</th>\n",
              "      <th>LearnCodeCoursesCert</th>\n",
              "      <th>YearsCode</th>\n",
              "      <th>...</th>\n",
              "      <th>TimeSearching</th>\n",
              "      <th>TimeAnswering</th>\n",
              "      <th>Onboarding</th>\n",
              "      <th>ProfessionalTech</th>\n",
              "      <th>TrueFalse_1</th>\n",
              "      <th>TrueFalse_2</th>\n",
              "      <th>TrueFalse_3</th>\n",
              "      <th>SurveyLength</th>\n",
              "      <th>SurveyEase</th>\n",
              "      <th>ConvertedCompYearly</th>\n",
              "    </tr>\n",
              "  </thead>\n",
              "  <tbody>\n",
              "    <tr>\n",
              "      <th>0</th>\n",
              "      <td>1</td>\n",
              "      <td>None of these</td>\n",
              "      <td>NaN</td>\n",
              "      <td>NaN</td>\n",
              "      <td>NaN</td>\n",
              "      <td>NaN</td>\n",
              "      <td>NaN</td>\n",
              "      <td>NaN</td>\n",
              "      <td>NaN</td>\n",
              "      <td>NaN</td>\n",
              "      <td>...</td>\n",
              "      <td>NaN</td>\n",
              "      <td>NaN</td>\n",
              "      <td>NaN</td>\n",
              "      <td>NaN</td>\n",
              "      <td>NaN</td>\n",
              "      <td>NaN</td>\n",
              "      <td>NaN</td>\n",
              "      <td>NaN</td>\n",
              "      <td>NaN</td>\n",
              "      <td>NaN</td>\n",
              "    </tr>\n",
              "    <tr>\n",
              "      <th>1</th>\n",
              "      <td>2</td>\n",
              "      <td>I am a developer by profession</td>\n",
              "      <td>Employed, full-time</td>\n",
              "      <td>Fully remote</td>\n",
              "      <td>Hobby;Contribute to open-source projects</td>\n",
              "      <td>NaN</td>\n",
              "      <td>NaN</td>\n",
              "      <td>NaN</td>\n",
              "      <td>NaN</td>\n",
              "      <td>NaN</td>\n",
              "      <td>...</td>\n",
              "      <td>NaN</td>\n",
              "      <td>NaN</td>\n",
              "      <td>NaN</td>\n",
              "      <td>NaN</td>\n",
              "      <td>NaN</td>\n",
              "      <td>NaN</td>\n",
              "      <td>NaN</td>\n",
              "      <td>Too long</td>\n",
              "      <td>Difficult</td>\n",
              "      <td>NaN</td>\n",
              "    </tr>\n",
              "    <tr>\n",
              "      <th>2</th>\n",
              "      <td>3</td>\n",
              "      <td>I am not primarily a developer, but I write co...</td>\n",
              "      <td>Employed, full-time</td>\n",
              "      <td>Hybrid (some remote, some in-person)</td>\n",
              "      <td>Hobby</td>\n",
              "      <td>Master’s degree (M.A., M.S., M.Eng., MBA, etc.)</td>\n",
              "      <td>Books / Physical media;Friend or family member...</td>\n",
              "      <td>Technical documentation;Blogs;Programming Game...</td>\n",
              "      <td>NaN</td>\n",
              "      <td>14</td>\n",
              "      <td>...</td>\n",
              "      <td>NaN</td>\n",
              "      <td>NaN</td>\n",
              "      <td>NaN</td>\n",
              "      <td>NaN</td>\n",
              "      <td>NaN</td>\n",
              "      <td>NaN</td>\n",
              "      <td>NaN</td>\n",
              "      <td>Appropriate in length</td>\n",
              "      <td>Neither easy nor difficult</td>\n",
              "      <td>40205.0</td>\n",
              "    </tr>\n",
              "    <tr>\n",
              "      <th>3</th>\n",
              "      <td>4</td>\n",
              "      <td>I am a developer by profession</td>\n",
              "      <td>Employed, full-time</td>\n",
              "      <td>Fully remote</td>\n",
              "      <td>I don’t code outside of work</td>\n",
              "      <td>Bachelor’s degree (B.A., B.S., B.Eng., etc.)</td>\n",
              "      <td>Books / Physical media;School (i.e., Universit...</td>\n",
              "      <td>NaN</td>\n",
              "      <td>NaN</td>\n",
              "      <td>20</td>\n",
              "      <td>...</td>\n",
              "      <td>NaN</td>\n",
              "      <td>NaN</td>\n",
              "      <td>NaN</td>\n",
              "      <td>NaN</td>\n",
              "      <td>NaN</td>\n",
              "      <td>NaN</td>\n",
              "      <td>NaN</td>\n",
              "      <td>Appropriate in length</td>\n",
              "      <td>Easy</td>\n",
              "      <td>215232.0</td>\n",
              "    </tr>\n",
              "    <tr>\n",
              "      <th>4</th>\n",
              "      <td>5</td>\n",
              "      <td>I am a developer by profession</td>\n",
              "      <td>Employed, full-time</td>\n",
              "      <td>Hybrid (some remote, some in-person)</td>\n",
              "      <td>Hobby</td>\n",
              "      <td>Bachelor’s degree (B.A., B.S., B.Eng., etc.)</td>\n",
              "      <td>Other online resources (e.g., videos, blogs, f...</td>\n",
              "      <td>Technical documentation;Blogs;Stack Overflow;O...</td>\n",
              "      <td>NaN</td>\n",
              "      <td>8</td>\n",
              "      <td>...</td>\n",
              "      <td>NaN</td>\n",
              "      <td>NaN</td>\n",
              "      <td>NaN</td>\n",
              "      <td>NaN</td>\n",
              "      <td>NaN</td>\n",
              "      <td>NaN</td>\n",
              "      <td>NaN</td>\n",
              "      <td>Too long</td>\n",
              "      <td>Easy</td>\n",
              "      <td>NaN</td>\n",
              "    </tr>\n",
              "  </tbody>\n",
              "</table>\n",
              "<p>5 rows × 79 columns</p>\n",
              "</div>\n",
              "      <button class=\"colab-df-convert\" onclick=\"convertToInteractive('df-413ba3f1-71b3-48eb-8146-ecb09062d998')\"\n",
              "              title=\"Convert this dataframe to an interactive table.\"\n",
              "              style=\"display:none;\">\n",
              "        \n",
              "  <svg xmlns=\"http://www.w3.org/2000/svg\" height=\"24px\"viewBox=\"0 0 24 24\"\n",
              "       width=\"24px\">\n",
              "    <path d=\"M0 0h24v24H0V0z\" fill=\"none\"/>\n",
              "    <path d=\"M18.56 5.44l.94 2.06.94-2.06 2.06-.94-2.06-.94-.94-2.06-.94 2.06-2.06.94zm-11 1L8.5 8.5l.94-2.06 2.06-.94-2.06-.94L8.5 2.5l-.94 2.06-2.06.94zm10 10l.94 2.06.94-2.06 2.06-.94-2.06-.94-.94-2.06-.94 2.06-2.06.94z\"/><path d=\"M17.41 7.96l-1.37-1.37c-.4-.4-.92-.59-1.43-.59-.52 0-1.04.2-1.43.59L10.3 9.45l-7.72 7.72c-.78.78-.78 2.05 0 2.83L4 21.41c.39.39.9.59 1.41.59.51 0 1.02-.2 1.41-.59l7.78-7.78 2.81-2.81c.8-.78.8-2.07 0-2.86zM5.41 20L4 18.59l7.72-7.72 1.47 1.35L5.41 20z\"/>\n",
              "  </svg>\n",
              "      </button>\n",
              "      \n",
              "  <style>\n",
              "    .colab-df-container {\n",
              "      display:flex;\n",
              "      flex-wrap:wrap;\n",
              "      gap: 12px;\n",
              "    }\n",
              "\n",
              "    .colab-df-convert {\n",
              "      background-color: #E8F0FE;\n",
              "      border: none;\n",
              "      border-radius: 50%;\n",
              "      cursor: pointer;\n",
              "      display: none;\n",
              "      fill: #1967D2;\n",
              "      height: 32px;\n",
              "      padding: 0 0 0 0;\n",
              "      width: 32px;\n",
              "    }\n",
              "\n",
              "    .colab-df-convert:hover {\n",
              "      background-color: #E2EBFA;\n",
              "      box-shadow: 0px 1px 2px rgba(60, 64, 67, 0.3), 0px 1px 3px 1px rgba(60, 64, 67, 0.15);\n",
              "      fill: #174EA6;\n",
              "    }\n",
              "\n",
              "    [theme=dark] .colab-df-convert {\n",
              "      background-color: #3B4455;\n",
              "      fill: #D2E3FC;\n",
              "    }\n",
              "\n",
              "    [theme=dark] .colab-df-convert:hover {\n",
              "      background-color: #434B5C;\n",
              "      box-shadow: 0px 1px 3px 1px rgba(0, 0, 0, 0.15);\n",
              "      filter: drop-shadow(0px 1px 2px rgba(0, 0, 0, 0.3));\n",
              "      fill: #FFFFFF;\n",
              "    }\n",
              "  </style>\n",
              "\n",
              "      <script>\n",
              "        const buttonEl =\n",
              "          document.querySelector('#df-413ba3f1-71b3-48eb-8146-ecb09062d998 button.colab-df-convert');\n",
              "        buttonEl.style.display =\n",
              "          google.colab.kernel.accessAllowed ? 'block' : 'none';\n",
              "\n",
              "        async function convertToInteractive(key) {\n",
              "          const element = document.querySelector('#df-413ba3f1-71b3-48eb-8146-ecb09062d998');\n",
              "          const dataTable =\n",
              "            await google.colab.kernel.invokeFunction('convertToInteractive',\n",
              "                                                     [key], {});\n",
              "          if (!dataTable) return;\n",
              "\n",
              "          const docLinkHtml = 'Like what you see? Visit the ' +\n",
              "            '<a target=\"_blank\" href=https://colab.research.google.com/notebooks/data_table.ipynb>data table notebook</a>'\n",
              "            + ' to learn more about interactive tables.';\n",
              "          element.innerHTML = '';\n",
              "          dataTable['output_type'] = 'display_data';\n",
              "          await google.colab.output.renderOutput(dataTable, element);\n",
              "          const docLink = document.createElement('div');\n",
              "          docLink.innerHTML = docLinkHtml;\n",
              "          element.appendChild(docLink);\n",
              "        }\n",
              "      </script>\n",
              "    </div>\n",
              "  </div>\n",
              "  "
            ]
          },
          "metadata": {},
          "execution_count": 4
        }
      ]
    },
    {
      "cell_type": "markdown",
      "source": [
        "### Explore the Data"
      ],
      "metadata": {
        "id": "i24TiZaZsi6q"
      }
    },
    {
      "cell_type": "code",
      "source": [
        "df.shape"
      ],
      "metadata": {
        "colab": {
          "base_uri": "https://localhost:8080/"
        },
        "id": "Y7M87spBlK3-",
        "outputId": "e5b88bca-b9e9-4f07-d551-9e9872468ad7"
      },
      "execution_count": 5,
      "outputs": [
        {
          "output_type": "execute_result",
          "data": {
            "text/plain": [
              "(73268, 79)"
            ]
          },
          "metadata": {},
          "execution_count": 5
        }
      ]
    },
    {
      "cell_type": "markdown",
      "source": [
        "The data has 70 columns and 73268 rows"
      ],
      "metadata": {
        "id": "CKT-oKx9uAif"
      }
    },
    {
      "cell_type": "code",
      "source": [
        "# Check for columns with more than 10000 missing values\n",
        "for i in df.columns:\n",
        "  if (df[i].isnull().sum()) > 10000:\n",
        "    print(i + \":  \" + str(df[i].isnull().sum()))"
      ],
      "metadata": {
        "colab": {
          "base_uri": "https://localhost:8080/"
        },
        "id": "IEC8Melotcm3",
        "outputId": "bfb2e705-b4bf-47c7-e55a-56aee5a00404"
      },
      "execution_count": 6,
      "outputs": [
        {
          "output_type": "stream",
          "name": "stdout",
          "text": [
            "RemoteWork:  14310\n",
            "CodingActivities:  14369\n",
            "LearnCodeOnline:  22583\n",
            "LearnCodeCoursesCert:  43879\n",
            "YearsCodePro:  21435\n",
            "DevType:  11966\n",
            "OrgSize:  22229\n",
            "PurchaseInfluence:  22299\n",
            "Currency:  22004\n",
            "CompTotal:  34846\n",
            "CompFreq:  28843\n",
            "DatabaseHaveWorkedWith:  13147\n",
            "DatabaseWantToWorkWith:  22254\n",
            "PlatformHaveWorkedWith:  23344\n",
            "PlatformWantToWorkWith:  32853\n",
            "WebframeHaveWorkedWith:  19724\n",
            "WebframeWantToWorkWith:  27146\n",
            "MiscTechHaveWorkedWith:  28276\n",
            "MiscTechWantToWorkWith:  36458\n",
            "ToolsTechHaveWorkedWith:  19097\n",
            "ToolsTechWantToWorkWith:  26702\n",
            "VCHostingPersonal use:  73268\n",
            "VCHostingProfessional use:  73268\n",
            "OfficeStackAsyncHaveWorkedWith:  27045\n",
            "OfficeStackAsyncWantToWorkWith:  41196\n",
            "OfficeStackSyncHaveWorkedWith:  11140\n",
            "OfficeStackSyncWantToWorkWith:  25580\n",
            "SOPartFreq:  15039\n",
            "TBranch:  20598\n",
            "ICorPM:  36985\n",
            "WorkExp:  36499\n",
            "Knowledge_1:  37464\n",
            "Knowledge_2:  38295\n",
            "Knowledge_3:  38135\n",
            "Knowledge_4:  38171\n",
            "Knowledge_5:  38254\n",
            "Knowledge_6:  38277\n",
            "Knowledge_7:  38291\n",
            "Frequency_1:  37897\n",
            "Frequency_2:  37924\n",
            "Frequency_3:  38753\n",
            "TimeSearching:  37070\n",
            "TimeAnswering:  37246\n",
            "Onboarding:  37589\n",
            "ProfessionalTech:  38362\n",
            "TrueFalse_1:  37449\n",
            "TrueFalse_2:  37553\n",
            "TrueFalse_3:  37519\n",
            "ConvertedCompYearly:  35197\n"
          ]
        }
      ]
    },
    {
      "cell_type": "markdown",
      "source": [
        "Columns with unique values should be dropped as they cannot be used in the analysis."
      ],
      "metadata": {
        "id": "9beLlPx6yGp5"
      }
    },
    {
      "cell_type": "code",
      "source": [
        "# Check for columns with more than 50000 of it's values unique\n",
        "for i in df.columns:\n",
        "  if (df[i].nunique() >= 50000):\n",
        "    print(i + \":  \" + str(df[i].nunique()))"
      ],
      "metadata": {
        "colab": {
          "base_uri": "https://localhost:8080/"
        },
        "id": "uh5fHOc2wpvX",
        "outputId": "32415e77-3374-4d52-bb0b-8c01fccf4b73"
      },
      "execution_count": 7,
      "outputs": [
        {
          "output_type": "stream",
          "name": "stdout",
          "text": [
            "ResponseId:  73268\n"
          ]
        }
      ]
    },
    {
      "cell_type": "markdown",
      "source": [
        "only Response Id has all unique values, hence no variation\n",
        "\n"
      ],
      "metadata": {
        "id": "cMvdH5WYZh8H"
      }
    },
    {
      "cell_type": "code",
      "source": [
        "# Exploring the number of unique values across all the columns\n",
        "for i in df.columns:\n",
        "  print(i + \":  \" + str(df[i].nunique()))"
      ],
      "metadata": {
        "colab": {
          "base_uri": "https://localhost:8080/"
        },
        "id": "DWsjM8QniEdp",
        "outputId": "5471b49d-b34a-409d-efd7-1c8c947d9d46"
      },
      "execution_count": 8,
      "outputs": [
        {
          "output_type": "stream",
          "name": "stdout",
          "text": [
            "ResponseId:  73268\n",
            "MainBranch:  6\n",
            "Employment:  103\n",
            "RemoteWork:  3\n",
            "CodingActivities:  63\n",
            "EdLevel:  9\n",
            "LearnCode:  737\n",
            "LearnCodeOnline:  7192\n",
            "LearnCodeCoursesCert:  206\n",
            "YearsCode:  52\n",
            "YearsCodePro:  52\n",
            "DevType:  9984\n",
            "OrgSize:  10\n",
            "PurchaseInfluence:  3\n",
            "BuyNewTool:  125\n",
            "Country:  180\n",
            "Currency:  142\n",
            "CompTotal:  3179\n",
            "CompFreq:  3\n",
            "LanguageHaveWorkedWith:  25068\n",
            "LanguageWantToWorkWith:  23952\n",
            "DatabaseHaveWorkedWith:  4223\n",
            "DatabaseWantToWorkWith:  4291\n",
            "PlatformHaveWorkedWith:  1500\n",
            "PlatformWantToWorkWith:  1435\n",
            "WebframeHaveWorkedWith:  8259\n",
            "WebframeWantToWorkWith:  8884\n",
            "MiscTechHaveWorkedWith:  4205\n",
            "MiscTechWantToWorkWith:  5086\n",
            "ToolsTechHaveWorkedWith:  951\n",
            "ToolsTechWantToWorkWith:  1245\n",
            "NEWCollabToolsHaveWorkedWith:  15063\n",
            "NEWCollabToolsWantToWorkWith:  9188\n",
            "OpSysProfessional use:  55\n",
            "OpSysPersonal use:  56\n",
            "VersionControlSystem:  16\n",
            "VCInteraction:  15\n",
            "VCHostingPersonal use:  0\n",
            "VCHostingProfessional use:  0\n",
            "OfficeStackAsyncHaveWorkedWith:  1085\n",
            "OfficeStackAsyncWantToWorkWith:  825\n",
            "OfficeStackSyncHaveWorkedWith:  397\n",
            "OfficeStackSyncWantToWorkWith:  353\n",
            "Blockchain:  6\n",
            "NEWSOSites:  16\n",
            "SOVisitFreq:  5\n",
            "SOAccount:  3\n",
            "SOPartFreq:  6\n",
            "SOComm:  6\n",
            "Age:  8\n",
            "Gender:  16\n",
            "Trans:  4\n",
            "Sexuality:  32\n",
            "Ethnicity:  1055\n",
            "Accessibility:  27\n",
            "MentalHealth:  57\n",
            "TBranch:  2\n",
            "ICorPM:  2\n",
            "WorkExp:  51\n",
            "Knowledge_1:  5\n",
            "Knowledge_2:  5\n",
            "Knowledge_3:  5\n",
            "Knowledge_4:  5\n",
            "Knowledge_5:  5\n",
            "Knowledge_6:  5\n",
            "Knowledge_7:  5\n",
            "Frequency_1:  5\n",
            "Frequency_2:  5\n",
            "Frequency_3:  5\n",
            "TimeSearching:  5\n",
            "TimeAnswering:  5\n",
            "Onboarding:  5\n",
            "ProfessionalTech:  155\n",
            "TrueFalse_1:  2\n",
            "TrueFalse_2:  2\n",
            "TrueFalse_3:  2\n",
            "SurveyLength:  3\n",
            "SurveyEase:  3\n",
            "ConvertedCompYearly:  7909\n"
          ]
        }
      ]
    },
    {
      "cell_type": "markdown",
      "source": [
        "There are columns with 0 unique values which mean that there are no value. Hence would be dropped."
      ],
      "metadata": {
        "id": "vf1JCMbRzDYZ"
      }
    },
    {
      "cell_type": "code",
      "source": [
        "df.info()"
      ],
      "metadata": {
        "colab": {
          "base_uri": "https://localhost:8080/"
        },
        "id": "TDGHNv_Z-Nru",
        "outputId": "76fe38bb-aab3-423a-e140-6241f3718e40"
      },
      "execution_count": 10,
      "outputs": [
        {
          "output_type": "stream",
          "name": "stdout",
          "text": [
            "<class 'pandas.core.frame.DataFrame'>\n",
            "RangeIndex: 73268 entries, 0 to 73267\n",
            "Data columns (total 79 columns):\n",
            " #   Column                          Non-Null Count  Dtype  \n",
            "---  ------                          --------------  -----  \n",
            " 0   ResponseId                      73268 non-null  int64  \n",
            " 1   MainBranch                      73268 non-null  object \n",
            " 2   Employment                      71709 non-null  object \n",
            " 3   RemoteWork                      58958 non-null  object \n",
            " 4   CodingActivities                58899 non-null  object \n",
            " 5   EdLevel                         71571 non-null  object \n",
            " 6   LearnCode                       71580 non-null  object \n",
            " 7   LearnCodeOnline                 50685 non-null  object \n",
            " 8   LearnCodeCoursesCert            29389 non-null  object \n",
            " 9   YearsCode                       71331 non-null  object \n",
            " 10  YearsCodePro                    51833 non-null  object \n",
            " 11  DevType                         61302 non-null  object \n",
            " 12  OrgSize                         51039 non-null  object \n",
            " 13  PurchaseInfluence               50969 non-null  object \n",
            " 14  BuyNewTool                      67963 non-null  object \n",
            " 15  Country                         71771 non-null  object \n",
            " 16  Currency                        51264 non-null  object \n",
            " 17  CompTotal                       38422 non-null  float64\n",
            " 18  CompFreq                        44425 non-null  object \n",
            " 19  LanguageHaveWorkedWith          70975 non-null  object \n",
            " 20  LanguageWantToWorkWith          67027 non-null  object \n",
            " 21  DatabaseHaveWorkedWith          60121 non-null  object \n",
            " 22  DatabaseWantToWorkWith          51014 non-null  object \n",
            " 23  PlatformHaveWorkedWith          49924 non-null  object \n",
            " 24  PlatformWantToWorkWith          40415 non-null  object \n",
            " 25  WebframeHaveWorkedWith          53544 non-null  object \n",
            " 26  WebframeWantToWorkWith          46122 non-null  object \n",
            " 27  MiscTechHaveWorkedWith          44992 non-null  object \n",
            " 28  MiscTechWantToWorkWith          36810 non-null  object \n",
            " 29  ToolsTechHaveWorkedWith         54171 non-null  object \n",
            " 30  ToolsTechWantToWorkWith         46566 non-null  object \n",
            " 31  NEWCollabToolsHaveWorkedWith    70347 non-null  object \n",
            " 32  NEWCollabToolsWantToWorkWith    64108 non-null  object \n",
            " 33  OpSysProfessional use           65503 non-null  object \n",
            " 34  OpSysPersonal use               70963 non-null  object \n",
            " 35  VersionControlSystem            71379 non-null  object \n",
            " 36  VCInteraction                   68156 non-null  object \n",
            " 37  VCHostingPersonal use           0 non-null      float64\n",
            " 38  VCHostingProfessional use       0 non-null      float64\n",
            " 39  OfficeStackAsyncHaveWorkedWith  46223 non-null  object \n",
            " 40  OfficeStackAsyncWantToWorkWith  32072 non-null  object \n",
            " 41  OfficeStackSyncHaveWorkedWith   62128 non-null  object \n",
            " 42  OfficeStackSyncWantToWorkWith   47688 non-null  object \n",
            " 43  Blockchain                      71071 non-null  object \n",
            " 44  NEWSOSites                      71365 non-null  object \n",
            " 45  SOVisitFreq                     70961 non-null  object \n",
            " 46  SOAccount                       71572 non-null  object \n",
            " 47  SOPartFreq                      58229 non-null  object \n",
            " 48  SOComm                          71408 non-null  object \n",
            " 49  Age                             70946 non-null  object \n",
            " 50  Gender                          70853 non-null  object \n",
            " 51  Trans                           70315 non-null  object \n",
            " 52  Sexuality                       66565 non-null  object \n",
            " 53  Ethnicity                       69474 non-null  object \n",
            " 54  Accessibility                   67244 non-null  object \n",
            " 55  MentalHealth                    66447 non-null  object \n",
            " 56  TBranch                         52670 non-null  object \n",
            " 57  ICorPM                          36283 non-null  object \n",
            " 58  WorkExp                         36769 non-null  float64\n",
            " 59  Knowledge_1                     35804 non-null  object \n",
            " 60  Knowledge_2                     34973 non-null  object \n",
            " 61  Knowledge_3                     35133 non-null  object \n",
            " 62  Knowledge_4                     35097 non-null  object \n",
            " 63  Knowledge_5                     35014 non-null  object \n",
            " 64  Knowledge_6                     34991 non-null  object \n",
            " 65  Knowledge_7                     34977 non-null  object \n",
            " 66  Frequency_1                     35371 non-null  object \n",
            " 67  Frequency_2                     35344 non-null  object \n",
            " 68  Frequency_3                     34515 non-null  object \n",
            " 69  TimeSearching                   36198 non-null  object \n",
            " 70  TimeAnswering                   36022 non-null  object \n",
            " 71  Onboarding                      35679 non-null  object \n",
            " 72  ProfessionalTech                34906 non-null  object \n",
            " 73  TrueFalse_1                     35819 non-null  object \n",
            " 74  TrueFalse_2                     35715 non-null  object \n",
            " 75  TrueFalse_3                     35749 non-null  object \n",
            " 76  SurveyLength                    70444 non-null  object \n",
            " 77  SurveyEase                      70508 non-null  object \n",
            " 78  ConvertedCompYearly             38071 non-null  float64\n",
            "dtypes: float64(5), int64(1), object(73)\n",
            "memory usage: 44.2+ MB\n"
          ]
        }
      ]
    },
    {
      "cell_type": "code",
      "source": [
        "# Check number of duplicate rows\n",
        "sum(df.duplicated())"
      ],
      "metadata": {
        "colab": {
          "base_uri": "https://localhost:8080/"
        },
        "id": "3M-0314Mjv94",
        "outputId": "a64eb77f-f6e1-4b14-ae83-f7c94d76971c"
      },
      "execution_count": 11,
      "outputs": [
        {
          "output_type": "execute_result",
          "data": {
            "text/plain": [
              "0"
            ]
          },
          "metadata": {},
          "execution_count": 11
        }
      ]
    },
    {
      "cell_type": "markdown",
      "source": [
        "> There are no duplicate rows"
      ],
      "metadata": {
        "id": "q0Fpzfa7b4yw"
      }
    },
    {
      "cell_type": "markdown",
      "source": [
        "### Data Cleaning"
      ],
      "metadata": {
        "id": "aSbO3DlqcAUP"
      }
    },
    {
      "cell_type": "code",
      "source": [
        "# duplicate the dataset for cleaning\n",
        "df1 = df.copy()"
      ],
      "metadata": {
        "id": "TxJAutYctKYl"
      },
      "execution_count": 12,
      "outputs": []
    },
    {
      "cell_type": "markdown",
      "source": [
        "#### Missing values"
      ],
      "metadata": {
        "id": "U6yj9t0bcgTn"
      }
    },
    {
      "cell_type": "code",
      "source": [
        "# drop columns with missing values greater than 20000\n",
        "for i in df1.columns:\n",
        "  if df1[i].isnull().sum() > 20000:\n",
        "    df1.drop(i, axis =1, inplace = True)"
      ],
      "metadata": {
        "id": "uXAr0T41p4XF"
      },
      "execution_count": 13,
      "outputs": []
    },
    {
      "cell_type": "code",
      "source": [
        "# check the columns that are left\n",
        "df1.columns"
      ],
      "metadata": {
        "colab": {
          "base_uri": "https://localhost:8080/"
        },
        "id": "SrxsTIPhsyw-",
        "outputId": "5f6b6288-ede8-4ee3-b442-d04c10e962f7"
      },
      "execution_count": 14,
      "outputs": [
        {
          "output_type": "execute_result",
          "data": {
            "text/plain": [
              "Index(['ResponseId', 'MainBranch', 'Employment', 'RemoteWork',\n",
              "       'CodingActivities', 'EdLevel', 'LearnCode', 'YearsCode', 'DevType',\n",
              "       'BuyNewTool', 'Country', 'LanguageHaveWorkedWith',\n",
              "       'LanguageWantToWorkWith', 'DatabaseHaveWorkedWith',\n",
              "       'WebframeHaveWorkedWith', 'ToolsTechHaveWorkedWith',\n",
              "       'NEWCollabToolsHaveWorkedWith', 'NEWCollabToolsWantToWorkWith',\n",
              "       'OpSysProfessional use', 'OpSysPersonal use', 'VersionControlSystem',\n",
              "       'VCInteraction', 'OfficeStackSyncHaveWorkedWith', 'Blockchain',\n",
              "       'NEWSOSites', 'SOVisitFreq', 'SOAccount', 'SOPartFreq', 'SOComm', 'Age',\n",
              "       'Gender', 'Trans', 'Sexuality', 'Ethnicity', 'Accessibility',\n",
              "       'MentalHealth', 'SurveyLength', 'SurveyEase'],\n",
              "      dtype='object')"
            ]
          },
          "metadata": {},
          "execution_count": 14
        }
      ]
    },
    {
      "cell_type": "code",
      "source": [
        "# check for the new shape of the dataset\n",
        "df1.shape"
      ],
      "metadata": {
        "colab": {
          "base_uri": "https://localhost:8080/"
        },
        "id": "Ikbwv5vLlX-t",
        "outputId": "2fa396f5-da22-4e25-c9ec-18c7abc7f8d9"
      },
      "execution_count": 15,
      "outputs": [
        {
          "output_type": "execute_result",
          "data": {
            "text/plain": [
              "(73268, 38)"
            ]
          },
          "metadata": {},
          "execution_count": 15
        }
      ]
    },
    {
      "cell_type": "markdown",
      "source": [
        "Missing rows would not be deleted for this analysis as they won't affect analysis and removing them would reduce sample size."
      ],
      "metadata": {
        "id": "aWZQxROadEB0"
      }
    },
    {
      "cell_type": "markdown",
      "source": [
        "### Analysis"
      ],
      "metadata": {
        "id": "Mjs8juTrdhZI"
      }
    },
    {
      "cell_type": "markdown",
      "source": [
        "Questions to be answered by this analysis are:\n",
        "\n",
        "1. What Countres have the most Stack Overflow Activities?\n",
        "2. What is the distribution of Main Branches using Stack Overflow?\n",
        "3. What is the Age distribution of Stack Overflow users?"
      ],
      "metadata": {
        "id": "gDHdZGhgdsHZ"
      }
    },
    {
      "cell_type": "code",
      "source": [
        "# Create function to create bar chart\n",
        "def top_plots(a, top, orientation):\n",
        "  \"\"\"\n",
        "  \"\"\"\n",
        "  counts = df1[a].value_counts()\n",
        "  counts_top = counts.head(top)\n",
        "  if orientation in ['h']:\n",
        "    counts_top.plot.barh(color = '#800020')\n",
        "\n",
        "    plt.xlabel('Count')\n",
        "    plt.ylabel(str(a))\n",
        "    title = 'Top ' + str(top) + ' ' + a\n",
        "    plt.title(title)\n",
        "    plt.show()\n",
        "  else:\n",
        "    counts_top.plot.bar(color = '#800020')\n",
        "\n",
        "    plt.xlabel(str(a))\n",
        "    plt.ylabel('Count')\n",
        "    title = 'Top ' + str(top) + ' ' + a\n",
        "    plt.title(title)\n",
        "    plt.show()\n"
      ],
      "metadata": {
        "id": "COU40nVr1kag"
      },
      "execution_count": 21,
      "outputs": []
    },
    {
      "cell_type": "markdown",
      "source": [
        "#### Question 1: What Countries have the most Stack Overflow Activities?"
      ],
      "metadata": {
        "id": "oVmANbuuz6M7"
      }
    },
    {
      "cell_type": "code",
      "source": [
        "top_plots('Country', 10, 'h')"
      ],
      "metadata": {
        "colab": {
          "base_uri": "https://localhost:8080/",
          "height": 295
        },
        "id": "Np6ICUB8zEiF",
        "outputId": "3aa48614-c4f3-4f21-d254-79b29921c054"
      },
      "execution_count": 23,
      "outputs": [
        {
          "output_type": "display_data",
          "data": {
            "text/plain": [
              "<Figure size 432x288 with 1 Axes>"
            ],
            "image/png": "[encoded data removed]"
          },
          "metadata": {
            "needs_background": "light"
          }
        }
      ]
    },
    {
      "cell_type": "markdown",
      "source": [
        "> Most users are from the United States. The top 10 countries across America, Europe and Canada. Just one asian country, India."
      ],
      "metadata": {
        "id": "eLNitp84eN_A"
      }
    },
    {
      "cell_type": "markdown",
      "source": [
        "#### Question 2 : What is the distribution of Main Branches using Stack Overflow?"
      ],
      "metadata": {
        "id": "qa2sxQt_vYwp"
      }
    },
    {
      "cell_type": "code",
      "source": [
        "top_plots('MainBranch', 10, 'h')"
      ],
      "metadata": {
        "id": "knURBqq_kDOo",
        "colab": {
          "base_uri": "https://localhost:8080/",
          "height": 295
        },
        "outputId": "7b2296cf-11a8-4b2a-c2a5-192bbeb8fbbb"
      },
      "execution_count": 25,
      "outputs": [
        {
          "output_type": "display_data",
          "data": {
            "text/plain": [
              "<Figure size 432x288 with 1 Axes>"
            ],
            "image/png": "[encoded data removed]"
          },
          "metadata": {
            "needs_background": "light"
          }
        }
      ]
    },
    {
      "cell_type": "markdown",
      "source": [
        "> More than three quarters of the users are developers by profession. the least, each making less than 5000, either used to be developers but no longer are, or do not fit into any of the categories."
      ],
      "metadata": {
        "id": "eWpOQDnIgeOD"
      }
    },
    {
      "cell_type": "markdown",
      "source": [
        "#### Question 3: What is the Age distribution of Stack Overflow users?"
      ],
      "metadata": {
        "id": "wgfE8RvGv98U"
      }
    },
    {
      "cell_type": "code",
      "source": [
        "top_plots('Age', 10, 'h')"
      ],
      "metadata": {
        "colab": {
          "base_uri": "https://localhost:8080/",
          "height": 295
        },
        "id": "qZ8oTlHQv7Q_",
        "outputId": "78433a71-542d-469c-a4da-0c7b97707efb"
      },
      "execution_count": 26,
      "outputs": [
        {
          "output_type": "display_data",
          "data": {
            "text/plain": [
              "<Figure size 432x288 with 1 Axes>"
            ],
            "image/png": "[encoded data removed]"
          },
          "metadata": {
            "needs_background": "light"
          }
        }
      ]
    },
    {
      "cell_type": "markdown",
      "source": [
        "> Majority of stack Overflow users are between the ages of 25 - 34. \n",
        "\n",
        "> It seemed the older the age group was, the lesser the number the user. The difference however, it is different for ages as they go lower than 25. \n",
        "\n",
        "> The lower the age group is than 25, the lesser the number of users."
      ],
      "metadata": {
        "id": "0R9PeNsHg7RM"
      }
    }
  ]
}